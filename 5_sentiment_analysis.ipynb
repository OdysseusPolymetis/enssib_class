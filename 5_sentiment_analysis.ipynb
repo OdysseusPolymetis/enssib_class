{
  "nbformat": 4,
  "nbformat_minor": 0,
  "metadata": {
    "colab": {
      "provenance": [],
      "machine_shape": "hm",
      "gpuType": "A100",
      "authorship_tag": "ABX9TyPX9w9zA9mbEzJMejEVVQRd",
      "include_colab_link": true
    },
    "kernelspec": {
      "name": "python3",
      "display_name": "Python 3"
    },
    "language_info": {
      "name": "python"
    },
    "accelerator": "GPU"
  },
  "cells": [
    {
      "cell_type": "markdown",
      "metadata": {
        "id": "view-in-github",
        "colab_type": "text"
      },
      "source": [
        "<a href=\"https://colab.research.google.com/github/OdysseusPolymetis/enssib_class/blob/main/5_sentiment_analysis.ipynb\" target=\"_parent\"><img src=\"https://colab.research.google.com/assets/colab-badge.svg\" alt=\"Open In Colab\"/></a>"
      ]
    },
    {
      "cell_type": "code",
      "source": [
        "!pip install stanza"
      ],
      "metadata": {
        "id": "jLk-ljiqZwrO"
      },
      "execution_count": null,
      "outputs": []
    },
    {
      "cell_type": "code",
      "source": [
        "import os\n",
        "import stanza\n",
        "from lxml import etree as ET\n",
        "import lxml.html\n",
        "import string\n",
        "import numpy as np\n",
        "import matplotlib.pyplot as plt\n",
        "import pandas as pd\n",
        "import torch\n",
        "from transformers import pipeline"
      ],
      "metadata": {
        "id": "ZVAhMECQbq9a"
      },
      "execution_count": null,
      "outputs": []
    },
    {
      "cell_type": "code",
      "execution_count": null,
      "metadata": {
        "id": "9o8xlWr2FQYL"
      },
      "outputs": [],
      "source": [
        "# Utilisation de CUDA\n",
        "device = torch.device(\"cuda\" if torch.cuda.is_available() else \"cpu\")\n",
        "\n",
        "# Initialisation du pipeline avec le modèle en utilisant CUDA\n",
        "sentiment_pipe = pipeline(\n",
        "    \"text-classification\",\n",
        "    model=\"ac0hik/Sentiment_Analysis_French\",\n",
        "    device=0 if torch.cuda.is_available() else -1\n",
        ")"
      ]
    },
    {
      "cell_type": "code",
      "source": [
        "!wget https://raw.githubusercontent.com/ebalzac/FC/refs/heads/gh-pages/balzac-22-FC-pere-goriot.xml"
      ],
      "metadata": {
        "id": "aZq3ivLvGdmt"
      },
      "execution_count": null,
      "outputs": []
    },
    {
      "cell_type": "code",
      "source": [
        "def strip_ns_prefix(tree):\n",
        "    query = \"descendant-or-self::*[namespace-uri()!='']\"\n",
        "    for element in tree.xpath(query):\n",
        "        element.tag = ET.QName(element).localname\n",
        "    return tree"
      ],
      "metadata": {
        "id": "ptPjsVNBbyUf"
      },
      "execution_count": null,
      "outputs": []
    },
    {
      "cell_type": "code",
      "source": [
        "filepath_of_text = \"/content/balzac-22-FC-pere-goriot.xml\""
      ],
      "metadata": {
        "id": "diQ-3iFOcKoL"
      },
      "execution_count": null,
      "outputs": []
    },
    {
      "cell_type": "code",
      "source": [
        "nlp_stanza = stanza.Pipeline(lang='fr', processors='tokenize,mwt')"
      ],
      "metadata": {
        "id": "4bpMy-YKddv0"
      },
      "execution_count": null,
      "outputs": []
    },
    {
      "cell_type": "code",
      "source": [
        "parser = ET.XMLParser(remove_blank_text=True, resolve_entities=False, encoding='utf8')\n",
        "tree = strip_ns_prefix(ET.parse(filepath_of_text, parser))\n",
        "ps = tree.xpath(\".//p\")\n",
        "paragraphs= []\n",
        "for p in ps:\n",
        "  sentences = []\n",
        "  for sentence in nlp_stanza(\"\".join(p.itertext())).sentences:\n",
        "    sentences.append(sentence.text)\n",
        "  paragraphs.append(sentences)"
      ],
      "metadata": {
        "id": "pVQkc6HgbdXz"
      },
      "execution_count": null,
      "outputs": []
    },
    {
      "cell_type": "code",
      "source": [
        "len(paragraphs)"
      ],
      "metadata": {
        "id": "Sc5suAv7hu-K"
      },
      "execution_count": null,
      "outputs": []
    },
    {
      "cell_type": "code",
      "source": [
        "paragraph_sentiments = []\n",
        "for paragraph in paragraphs:\n",
        "    sentence_scores = []\n",
        "    confidence_scores = []  # Liste pour stocker les scores de confiance\n",
        "\n",
        "    for sentence in paragraph:\n",
        "        sentiment = sentiment_pipe(sentence)[0]\n",
        "        confidence = sentiment['score']\n",
        "        confidence_scores.append(confidence)\n",
        "\n",
        "        # Calcul du score de base en fonction de l'étiquette\n",
        "        if sentiment['label'] == 'negative':\n",
        "            score = - (confidence - 0.5) * 2  # Score négatif ajusté\n",
        "        elif sentiment['label'] == 'positive':\n",
        "            score = (confidence - 0.5) * 2  # Score positif ajusté\n",
        "        else:  # 'neutral'\n",
        "            score = 0  # Pas de sentiment\n",
        "\n",
        "        sentence_scores.append(score)\n",
        "\n",
        "    # Calcul de la moyenne des scores de sentiment pour le paragraphe\n",
        "    avg_score = np.mean(sentence_scores)\n",
        "\n",
        "    # Calcul de la moyenne des scores de confiance\n",
        "    avg_confidence = np.mean(confidence_scores)\n",
        "\n",
        "    # Ajustement du score basé sur la longueur du paragraphe\n",
        "    paragraph_length = len(paragraph)  # Nombre de phrases dans le paragraphe\n",
        "\n",
        "    # Ajuster l'impact de la longueur et de la confiance de manière plus prononcée\n",
        "    if paragraph_length > 4:  # Paragraphe long\n",
        "        adjusted_score = avg_score * (1 + 0.2 * (avg_confidence - 0.5))  # Amplification plus forte\n",
        "    elif paragraph_length <= 2:  # Paragraphe court\n",
        "        adjusted_score = avg_score * (1 - 0.2 * (1 - avg_confidence))  # Réduction plus forte\n",
        "    else:\n",
        "        adjusted_score = avg_score  # Pas de changement pour les paragraphes de taille moyenne\n",
        "\n",
        "    paragraph_sentiments.append(adjusted_score)"
      ],
      "metadata": {
        "id": "nNlG6SinhqSk"
      },
      "execution_count": null,
      "outputs": []
    },
    {
      "cell_type": "code",
      "source": [
        "indices_to_print = [30, 240, 930]\n",
        "for index in indices_to_print:\n",
        "    if index < len(paragraphs):\n",
        "        paragraph = paragraphs[index]\n",
        "\n",
        "        full_paragraph = \" \".join(paragraph)\n",
        "\n",
        "        print(f\"\\nParagraphe {index}:\")\n",
        "        print(full_paragraph)\n",
        "        print(f\"Score moyen de sentiment: {paragraph_sentiments[index]}\")"
      ],
      "metadata": {
        "id": "sbk8ZlDCdM4P"
      },
      "execution_count": null,
      "outputs": []
    },
    {
      "cell_type": "code",
      "source": [
        "window_size = 50\n",
        "smoothed_sentiments = np.convolve(paragraph_sentiments, np.ones(window_size), 'valid') / window_size\n",
        "\n",
        "plt.figure(figsize=(12, 6))\n",
        "\n",
        "plt.scatter(range(len(paragraph_sentiments)), paragraph_sentiments, alpha=0.3, color='lightgray', label='Paragraph Sentiment Scores')\n",
        "\n",
        "plt.plot(range(window_size - 1, len(paragraph_sentiments)), smoothed_sentiments, color='blue', label='Smoothed Sentiment Trend')\n",
        "\n",
        "plt.ylim(-1, 1)\n",
        "\n",
        "plt.xlabel('Paragraph Number')\n",
        "plt.ylabel('Average Sentiment Score')\n",
        "plt.title('Evolution of Average Sentiment per Paragraph')\n",
        "plt.legend()\n",
        "\n",
        "for i, sentiment in enumerate(paragraph_sentiments):\n",
        "    if i % 10 == 0:\n",
        "        plt.annotate(str(i), (i, sentiment), textcoords=\"offset points\", xytext=(0, 5), ha='center')\n",
        "\n",
        "plt.show()"
      ],
      "metadata": {
        "id": "vbIKG6AUkOU5"
      },
      "execution_count": null,
      "outputs": []
    },
    {
      "cell_type": "code",
      "source": [
        "def display_paragraphs(indices):\n",
        "  for i in indices:\n",
        "    if 0 <= i < len(paragraphs):\n",
        "      print(f\"Paragraph {i}:\")\n",
        "      for sentence in paragraphs[i]:\n",
        "        print(sentence)\n",
        "    else:\n",
        "      print(f\"Index {i} is out of bounds.\")\n",
        "\n",
        "display_paragraphs([570])"
      ],
      "metadata": {
        "id": "w_qlyc_l1MZP"
      },
      "execution_count": null,
      "outputs": []
    },
    {
      "cell_type": "code",
      "source": [
        "display_paragraphs([1370])"
      ],
      "metadata": {
        "id": "FdEuNsH32pwk"
      },
      "execution_count": null,
      "outputs": []
    },
    {
      "cell_type": "code",
      "source": [
        "display_paragraphs([320])"
      ],
      "metadata": {
        "id": "pyRy2omTZLeD"
      },
      "execution_count": null,
      "outputs": []
    },
    {
      "cell_type": "code",
      "source": [
        "display_paragraphs([230])"
      ],
      "metadata": {
        "id": "3TmDEygMZSlt"
      },
      "execution_count": null,
      "outputs": []
    },
    {
      "cell_type": "code",
      "source": [
        "display_paragraphs([840])"
      ],
      "metadata": {
        "id": "ce1dcDfZZjku"
      },
      "execution_count": null,
      "outputs": []
    },
    {
      "cell_type": "code",
      "source": [
        "display_paragraphs([1250])"
      ],
      "metadata": {
        "id": "iaEMhomRj6YD"
      },
      "execution_count": null,
      "outputs": []
    },
    {
      "cell_type": "code",
      "source": [
        "display_paragraphs([1260])"
      ],
      "metadata": {
        "id": "omJANmzrkbnV"
      },
      "execution_count": null,
      "outputs": []
    },
    {
      "cell_type": "code",
      "source": [
        "display_paragraphs([1557])"
      ],
      "metadata": {
        "id": "DyyTSu69kAPj"
      },
      "execution_count": null,
      "outputs": []
    },
    {
      "cell_type": "code",
      "source": [],
      "metadata": {
        "id": "MQCC_YzikHIe"
      },
      "execution_count": null,
      "outputs": []
    }
  ]
}